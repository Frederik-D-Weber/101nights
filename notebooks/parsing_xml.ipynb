{
 "cells": [
  {
   "cell_type": "markdown",
   "metadata": {},
   "source": [
    "# Parsing the xml files for words"
   ]
  },
  {
   "cell_type": "markdown",
   "metadata": {},
   "source": [
    "### This charges all the events for the messages events in a pandas dataframe"
   ]
  },
  {
   "cell_type": "code",
   "execution_count": null,
   "metadata": {},
   "outputs": [],
   "source": [
    "# set up stuff\n",
    "import sys\n",
    "sys.path.append('../src/')\n",
    "from parse_xml import *"
   ]
  },
  {
   "cell_type": "code",
   "execution_count": null,
   "metadata": {},
   "outputs": [],
   "source": [
    "# Compute a pandas data-frame with the time, word and type for the message send during the sleep\n",
    "events = get_events_from_xml()\n",
    "print(events)"
   ]
  },
  {
   "cell_type": "markdown",
   "metadata": {},
   "source": [
    "### We can find a word with the time stamp : example"
   ]
  },
  {
   "cell_type": "code",
   "execution_count": null,
   "metadata": {},
   "outputs": [],
   "source": [
    "df.loc[df.time == \"2017-12-05-06-27-39-010\"].word"
   ]
  },
  {
   "cell_type": "code",
   "execution_count": null,
   "metadata": {},
   "outputs": [],
   "source": [
    "import mne"
   ]
  },
  {
   "cell_type": "code",
   "execution_count": null,
   "metadata": {},
   "outputs": [],
   "source": [
    "path_to_file = '/home/ramon/data_hackingsession/Nathalie-78_20171118_123017.mff'\n",
    "raw = mne.io.read_raw_egi(path_to_file,\n",
    "                          montage='GSN-HydroCel-256',\n",
    "                          preload=False)\n",
    "events = mne.event.find_events(raw)\n",
    "print(events)"
   ]
  }
 ],
 "metadata": {
  "kernelspec": {
   "display_name": "Python 3",
   "language": "python",
   "name": "python3"
  },
  "language_info": {
   "codemirror_mode": {
    "name": "ipython",
    "version": 3
   },
   "file_extension": ".py",
   "mimetype": "text/x-python",
   "name": "python",
   "nbconvert_exporter": "python",
   "pygments_lexer": "ipython3",
   "version": "3.6.1"
  }
 },
 "nbformat": 4,
 "nbformat_minor": 2
}
