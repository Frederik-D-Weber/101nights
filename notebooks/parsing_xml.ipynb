{
 "cells": [
  {
   "cell_type": "markdown",
   "metadata": {},
   "source": [
    "# Parsing the xml files for words"
   ]
  },
  {
   "cell_type": "markdown",
   "metadata": {},
   "source": [
    "### This charges all the events for the messages events in a pandas dataframe"
   ]
  },
  {
   "cell_type": "code",
   "execution_count": null,
   "metadata": {},
   "outputs": [],
   "source": [
    "# set up stuff\n",
    "import sys\n",
    "sys.path.append('../src/')\n",
    "from parse_xml import *"
   ]
  },
  {
   "cell_type": "code",
   "execution_count": null,
   "metadata": {},
   "outputs": [],
   "source": [
    "# Compute a pandas data-frame with the time, word and type for the message send during the sleep\n",
    "events = get_events_from_xml()\n",
    "events.head()"
   ]
  },
  {
   "cell_type": "code",
   "execution_count": null,
   "metadata": {},
   "outputs": [],
   "source": [
    "# Load the dreams.csv\n",
    "import pandas as pd\n",
    "import os.path\n",
    "\n",
    "dreams_fname = '../data/derived/dreams.csv'\n",
    "if os.path.isfile(dreams_fname):\n",
    "    dreams = pd.read_csv(dreams_fname)\n",
    "else:\n",
    "    raise RuntimeError('you should pre-compute dreams.csv. Please run src/dream_parser.py')\n",
    "\n",
    "dreams.head()"
   ]
  },
  {
   "cell_type": "markdown",
   "metadata": {},
   "source": [
    "### We can find a word with the time stamp : example"
   ]
  },
  {
   "cell_type": "code",
   "execution_count": null,
   "metadata": {},
   "outputs": [],
   "source": [
    "df.loc[df.time == \"2017-12-05-06-27-39-010\"].word"
   ]
  },
  {
   "cell_type": "code",
   "execution_count": null,
   "metadata": {},
   "outputs": [],
   "source": [
    "import mne"
   ]
  },
  {
   "cell_type": "code",
   "execution_count": null,
   "metadata": {},
   "outputs": [],
   "source": [
    "path_to_file = '/home/ramon/data_hackingsession/Nathalie-78_20171118_123017.mff'\n",
    "raw = mne.io.read_raw_egi(path_to_file,\n",
    "                          montage='GSN-HydroCel-256',\n",
    "                          preload=False)\n",
    "events = mne.event.find_events(raw)\n",
    "print(events)"
   ]
  }
 ],
 "metadata": {
  "kernelspec": {
   "display_name": "Python 3",
   "language": "python",
   "name": "python3"
  },
  "language_info": {
   "codemirror_mode": {
    "name": "ipython",
    "version": 3
   },
   "file_extension": ".py",
   "mimetype": "text/x-python",
   "name": "python",
   "nbconvert_exporter": "python",
   "pygments_lexer": "ipython3",
   "version": "3.6.3"
  }
 },
 "nbformat": 4,
 "nbformat_minor": 2
}
