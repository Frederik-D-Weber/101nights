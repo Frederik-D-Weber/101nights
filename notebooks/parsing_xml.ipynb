{
 "cells": [
  {
   "cell_type": "markdown",
   "metadata": {},
   "source": [
    "# Parsing the xml files for words"
   ]
  },
  {
   "cell_type": "markdown",
   "metadata": {},
   "source": [
    "### This charges all the events for the messages events in a pandas dataframe"
   ]
  },
  {
   "cell_type": "code",
   "execution_count": 4,
   "metadata": {
    "scrolled": true
   },
   "outputs": [
    {
     "name": "stdout",
     "output_type": "stream",
     "text": [
      "                           time              word  type\n",
      "0    2017-09-24 23:41:30.000489         sick-gray  test\n",
      "1    2017-09-24 23:46:42.000716            calmly  auto\n",
      "2    2017-09-24 23:55:56.000072         carefully  auto\n",
      "3    2017-09-24 23:57:05.000948            sleeps  auto\n",
      "4    2017-09-25 00:17:02.000316            sleeps  auto\n",
      "5    2017-09-25 00:26:16.000974           sisters  auto\n",
      "6    2017-09-25 00:31:28.000302               son  auto\n",
      "7    2017-09-25 00:55:20.000178           plotted  auto\n",
      "8    2017-09-25 00:56:35.000394            person  auto\n",
      "9    2017-09-25 01:02:55.000556              dumb  auto\n",
      "10   2017-09-25 02:01:42.000595       treacherous  auto\n",
      "11   2017-09-25 02:39:06.000495            prison  auto\n",
      "12   2017-09-25 03:16:01.000091      side-by-side  auto\n",
      "13   2017-09-25 04:40:47.000227              head  auto\n",
      "14   2017-09-25 04:45:20.000741             loves  auto\n",
      "15   2017-09-25 04:57:57.000958              plam  auto\n",
      "16   2017-09-25 05:35:51.000008      side-by-side  auto\n",
      "17   2017-09-25 05:54:47.000435              plam  auto\n",
      "18   2017-09-25 05:54:54.000640            calmly  auto\n",
      "19   2017-09-25 06:28:57.000942            person  auto\n",
      "20   2017-09-25 06:32:34.000251            sleeps  auto\n",
      "21   2017-09-25 06:33:32.000571        sleep-well  auto\n",
      "22   2017-09-25 07:18:11.000806            person  auto\n",
      "23   2017-09-25 07:34:11.000357           plotted  auto\n",
      "24   2017-09-25 07:36:32.000946            person  auto\n",
      "25   2017-09-25 07:42:11.000820               men  auto\n",
      "26   2017-09-25 07:54:57.000738              hung  auto\n",
      "27   2017-09-19 00:05:49.000437      side-by-side  test\n",
      "28   2017-09-19 00:07:27.000027            calmly  auto\n",
      "29   2017-09-19 00:18:30.000444            sleeps  auto\n",
      "...                         ...               ...   ...\n",
      "2655 2017-12-05 06:27:39.000010             macho  auto\n",
      "2656 2017-12-05 06:46:16.000427     ojos-cerrados  auto\n",
      "2657 2017-12-05 06:48:21.000041             sordo  auto\n",
      "2658 2017-12-05 07:03:56.000330           perdido  auto\n",
      "2659 2017-12-05 07:18:21.000726        prisionero  auto\n",
      "2660 2017-12-05 07:56:10.000957            marido  auto\n",
      "2661 2017-12-05 08:08:31.000960            ligero  auto\n",
      "2662 2017-12-05 08:19:38.000840  no-correspondido  auto\n",
      "2663 2017-12-05 08:36:48.000090            pareja  auto\n",
      "2664 2017-12-05 09:20:14.000501       todo-el-dia  auto\n",
      "2665 2017-12-05 09:36:49.000090             vison  auto\n",
      "2666 2017-10-21 00:24:23.000088           breathe  test\n",
      "2667 2017-10-21 00:50:14.000612            solemn  auto\n",
      "2668 2017-10-21 03:40:47.000349              trip  auto\n",
      "2669 2017-10-21 04:09:09.000104            solemn  auto\n",
      "2670 2017-10-21 04:26:55.000716           onanist  auto\n",
      "2671 2017-10-21 04:32:09.000553         shot-eyes  auto\n",
      "2672 2017-10-21 05:36:12.000995               men  auto\n",
      "2673 2017-10-21 05:50:47.000981            sleeps  auto\n",
      "2674 2017-10-21 06:23:00.000025            sleeps  auto\n",
      "2675 2017-10-21 06:40:47.000636          stepping  auto\n",
      "2676 2017-10-21 06:59:58.000745        stick-gray  auto\n",
      "2677 2017-10-21 07:55:19.000905               men  auto\n",
      "2678 2017-10-21 08:10:09.000988            wonder  auto\n",
      "2679 2017-10-21 08:27:11.000500             wrapt  auto\n",
      "2680 2017-10-21 08:33:41.000836             night  auto\n",
      "2681 2017-10-21 08:49:22.000888            mother  auto\n",
      "2682 2017-10-21 09:32:29.000345              trip  auto\n",
      "2683 2017-10-21 09:34:40.000563          pervades  auto\n",
      "2684 2017-10-21 09:35:15.000278         shot-eyes  auto\n",
      "\n",
      "[2685 rows x 3 columns]\n"
     ]
    }
   ],
   "source": [
    "import os\n",
    "from lxml import etree\n",
    "import pandas as pd\n",
    "import datetime\n",
    "\n",
    "def build_tuple(message):\n",
    "    time, word = message.getchildren()\n",
    "    dicc = {\"time\": [int(fields) for fields in time.text.split(\"-\")], \"word\": word.text, \"type\": message.get(key=\"type\")}\n",
    "    dicc[\"time\"] = datetime.datetime(*dicc[\"time\"])                \n",
    "    return dicc\n",
    "\n",
    "pathxmls = '../data/raw/XML'\n",
    "files = [fil for fil in os.listdir(pathxmls) if fil[-4:] == \".xml\"]\n",
    "df = pd.DataFrame(columns=[\"time\", \"word\", \"type\"])\n",
    "for file in files:\n",
    "    xmlpath = os.path.join(pathxmls, file)\n",
    "    xml = open(xmlpath, \"r\").read()\n",
    "    parser = etree.XMLParser(ns_clean=True, recover=True)\n",
    "    tree = etree.fromstring(\"<data>{0}</data>\".format(xml), parser)\n",
    "    root = tree.getroottree().getroot()\n",
    "    messages = [build_tuple(e) for e in root.getchildren() if e.tag == \"message\"]\n",
    "    for message in messages:\n",
    "        df = df.append(message, ignore_index=True)\n",
    "print(df)"
   ]
  },
  {
   "cell_type": "markdown",
   "metadata": {},
   "source": [
    "### We can find a word with the time stamp : example"
   ]
  },
  {
   "cell_type": "code",
   "execution_count": 83,
   "metadata": {},
   "outputs": [
    {
     "data": {
      "text/plain": [
       "2655    macho\n",
       "Name: word, dtype: object"
      ]
     },
     "execution_count": 83,
     "metadata": {},
     "output_type": "execute_result"
    }
   ],
   "source": [
    "df.loc[df.time == \"2017-12-05-06-27-39-010\"].word"
   ]
  },
  {
   "cell_type": "code",
   "execution_count": null,
   "metadata": {},
   "outputs": [],
   "source": [
    "import mne"
   ]
  },
  {
   "cell_type": "code",
   "execution_count": null,
   "metadata": {},
   "outputs": [],
   "source": [
    "path_to_file = '/home/ramon/data_hackingsession/Nathalie-78_20171118_123017.mff'\n",
    "raw = mne.io.read_raw_egi(path_to_file,\n",
    "                          montage='GSN-HydroCel-256',\n",
    "                          preload=False)\n",
    "events = mne.event.find_events(raw)\n",
    "print(events)"
   ]
  }
 ],
 "metadata": {
  "kernelspec": {
   "display_name": "Python 3",
   "language": "python",
   "name": "python3"
  },
  "language_info": {
   "codemirror_mode": {
    "name": "ipython",
    "version": 3
   },
   "file_extension": ".py",
   "mimetype": "text/x-python",
   "name": "python",
   "nbconvert_exporter": "python",
   "pygments_lexer": "ipython3",
   "version": "3.6.5"
  }
 },
 "nbformat": 4,
 "nbformat_minor": 2
}
