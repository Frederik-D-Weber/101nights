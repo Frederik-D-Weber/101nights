{
 "cells": [
  {
   "cell_type": "markdown",
   "metadata": {},
   "source": [
    "# Parsing the xml files for words"
   ]
  },
  {
   "cell_type": "markdown",
   "metadata": {},
   "source": [
    "### This charges all the events for the messages events in a pandas dataframe"
   ]
  },
  {
   "cell_type": "code",
   "execution_count": 1,
   "metadata": {},
   "outputs": [],
   "source": [
    "# set up stuff\n",
    "%matplotlib inline\n",
    "%load_ext autoreload\n",
    "%autoreload 2\n",
    "\n",
    "import sys\n",
    "sys.path.append('../src/')\n",
    "from parse_xml import *"
   ]
  },
  {
   "cell_type": "code",
   "execution_count": 4,
   "metadata": {
    "scrolled": true
   },
   "outputs": [
    {
     "data": {
      "text/html": [
       "<div>\n",
       "<style scoped>\n",
       "    .dataframe tbody tr th:only-of-type {\n",
       "        vertical-align: middle;\n",
       "    }\n",
       "\n",
       "    .dataframe tbody tr th {\n",
       "        vertical-align: top;\n",
       "    }\n",
       "\n",
       "    .dataframe thead th {\n",
       "        text-align: right;\n",
       "    }\n",
       "</style>\n",
       "<table border=\"1\" class=\"dataframe\">\n",
       "  <thead>\n",
       "    <tr style=\"text-align: right;\">\n",
       "      <th></th>\n",
       "      <th>word</th>\n",
       "      <th>type</th>\n",
       "    </tr>\n",
       "    <tr>\n",
       "      <th>time</th>\n",
       "      <th></th>\n",
       "      <th></th>\n",
       "    </tr>\n",
       "  </thead>\n",
       "  <tbody>\n",
       "    <tr>\n",
       "      <th>2017-09-01 01:34:44.000910</th>\n",
       "      <td>white-features</td>\n",
       "      <td>test</td>\n",
       "    </tr>\n",
       "    <tr>\n",
       "      <th>2017-09-01 01:35:43.000880</th>\n",
       "      <td>carefully</td>\n",
       "      <td>auto</td>\n",
       "    </tr>\n",
       "    <tr>\n",
       "      <th>2017-09-01 01:40:16.000164</th>\n",
       "      <td>lovingly</td>\n",
       "      <td>auto</td>\n",
       "    </tr>\n",
       "    <tr>\n",
       "      <th>2017-09-01 01:49:22.000804</th>\n",
       "      <td>faces</td>\n",
       "      <td>auto</td>\n",
       "    </tr>\n",
       "    <tr>\n",
       "      <th>2017-09-01 01:56:02.000252</th>\n",
       "      <td>couple</td>\n",
       "      <td>auto</td>\n",
       "    </tr>\n",
       "  </tbody>\n",
       "</table>\n",
       "</div>"
      ],
      "text/plain": [
       "                                      word  type\n",
       "time                                            \n",
       "2017-09-01 01:34:44.000910  white-features  test\n",
       "2017-09-01 01:35:43.000880       carefully  auto\n",
       "2017-09-01 01:40:16.000164        lovingly  auto\n",
       "2017-09-01 01:49:22.000804           faces  auto\n",
       "2017-09-01 01:56:02.000252          couple  auto"
      ]
     },
     "execution_count": 4,
     "metadata": {},
     "output_type": "execute_result"
    }
   ],
   "source": [
    "# Compute a pandas data-frame with the time, word and type for the message send during the sleep\n",
    "events = get_events_from_xml()\n",
    "events.head()"
   ]
  },
  {
   "cell_type": "code",
   "execution_count": null,
   "metadata": {},
   "outputs": [],
   "source": [
    "# Load the dreams.csv\n",
    "import pandas as pd\n",
    "import os.path\n",
    "\n",
    "dreams_fname = '../data/derived/dreams.csv'\n",
    "if os.path.isfile(dreams_fname):\n",
    "    dreams = pd.read_csv(dreams_fname)\n",
    "else:\n",
    "    raise RuntimeError('you should pre-compute dreams.csv. Please run src/dream_parser.py')\n",
    "\n",
    "dreams.head()"
   ]
  },
  {
   "cell_type": "code",
   "execution_count": null,
   "metadata": {},
   "outputs": [],
   "source": []
  },
  {
   "cell_type": "code",
   "execution_count": null,
   "metadata": {},
   "outputs": [],
   "source": [
    "mask = (events['time'] > '2017-09-1') & (events['time'] <= '2017-10-30')\n",
    "events.loc[mask]"
   ]
  },
  {
   "cell_type": "code",
   "execution_count": null,
   "metadata": {},
   "outputs": [],
   "source": [
    "events['delta_time']=events.time.diff().dt.seconds.div(60, fill_value=0)\n",
    "events.iloc[range(21,26)]"
   ]
  },
  {
   "cell_type": "markdown",
   "metadata": {},
   "source": [
    "### We can find a word with the time stamp : example"
   ]
  },
  {
   "cell_type": "code",
   "execution_count": null,
   "metadata": {},
   "outputs": [],
   "source": [
    "df.loc[df.time == \"2017-12-05-06-27-39-010\"].word"
   ]
  },
  {
   "cell_type": "code",
   "execution_count": null,
   "metadata": {},
   "outputs": [],
   "source": [
    "import mne"
   ]
  },
  {
   "cell_type": "code",
   "execution_count": null,
   "metadata": {},
   "outputs": [],
   "source": [
    "path_to_file = '/home/ramon/data_hackingsession/Nathalie-78_20171118_123017.mff'\n",
    "raw = mne.io.read_raw_egi(path_to_file,\n",
    "                          montage='GSN-HydroCel-256',\n",
    "                          preload=False)\n",
    "events = mne.event.find_events(raw)\n",
    "print(events)"
   ]
  }
 ],
 "metadata": {
  "kernelspec": {
   "display_name": "Python 3",
   "language": "python",
   "name": "python3"
  },
  "language_info": {
   "codemirror_mode": {
    "name": "ipython",
    "version": 3
   },
   "file_extension": ".py",
   "mimetype": "text/x-python",
   "name": "python",
   "nbconvert_exporter": "python",
   "pygments_lexer": "ipython3",
   "version": "3.6.1"
  }
 },
 "nbformat": 4,
 "nbformat_minor": 2
}
